{
 "cells": [
  {
   "cell_type": "code",
   "execution_count": 4,
   "id": "01c17994",
   "metadata": {},
   "outputs": [],
   "source": [
    "#Maths Calculations\n",
    "import numpy as np\n",
    "\n",
    "#dataframe operations\n",
    "import pandas as pd\n",
    "\n",
    "#Data visualization\n",
    "import matplotlib.pyplot as plt\n",
    "import seaborn as sns\n",
    "\n",
    "#ML Algorithms\n",
    "import sklearn\n",
    "import imblearn"
   ]
  },
  {
   "cell_type": "code",
   "execution_count": 5,
   "id": "2741f52a",
   "metadata": {
    "scrolled": true
   },
   "outputs": [],
   "source": [
    "plt.style.use('seaborn-paper')"
   ]
  },
  {
   "cell_type": "code",
   "execution_count": 6,
   "id": "0311d270",
   "metadata": {},
   "outputs": [],
   "source": [
    "data=pd.read_csv('LoanData.csv')"
   ]
  },
  {
   "cell_type": "code",
   "execution_count": null,
   "id": "55bcda40",
   "metadata": {},
   "outputs": [],
   "source": []
  }
 ],
 "metadata": {
  "kernelspec": {
   "name": "python3",
   "display_name": "Python 3.9.5 64-bit"
  },
  "language_info": {
   "codemirror_mode": {
    "name": "ipython",
    "version": 3
   },
   "file_extension": ".py",
   "mimetype": "text/x-python",
   "name": "python",
   "nbconvert_exporter": "python",
   "pygments_lexer": "ipython3",
   "version": "3.9.5"
  },
  "interpreter": {
   "hash": "349fa99260b57ee1fbf59b6ab239d73af329deaad73a50d9da700240410fb0c3"
  }
 },
 "nbformat": 4,
 "nbformat_minor": 5
}